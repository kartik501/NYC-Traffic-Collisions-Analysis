{
 "cells": [
  {
   "cell_type": "markdown",
   "id": "2f78cd53",
   "metadata": {},
   "source": [
    "## Saving data from 2019 onwards as a separate file"
   ]
  },
  {
   "cell_type": "code",
   "execution_count": 1,
   "id": "adcec0d7",
   "metadata": {},
   "outputs": [],
   "source": [
    "import pandas as pd"
   ]
  },
  {
   "cell_type": "code",
   "execution_count": 84,
   "id": "2c8ee1ed",
   "metadata": {},
   "outputs": [],
   "source": [
    "#Original dataset not included in repo as it is too large\n",
    "df = pd.read_csv(\"Hourly_Traffic_on_Metropolitan_Transportation_Authority__MTA__Bridges_and_Tunnels__Beginning_2010.csv\")"
   ]
  },
  {
   "cell_type": "code",
   "execution_count": 7,
   "id": "9bc7ff5c",
   "metadata": {},
   "outputs": [],
   "source": [
    "# Converting Date to Date-time\n",
    "df['Date'] = pd.to_datetime(df['Date'])"
   ]
  },
  {
   "cell_type": "code",
   "execution_count": 8,
   "id": "d6ed93a9",
   "metadata": {},
   "outputs": [
    {
     "data": {
      "text/html": [
       "<div>\n",
       "<style scoped>\n",
       "    .dataframe tbody tr th:only-of-type {\n",
       "        vertical-align: middle;\n",
       "    }\n",
       "\n",
       "    .dataframe tbody tr th {\n",
       "        vertical-align: top;\n",
       "    }\n",
       "\n",
       "    .dataframe thead th {\n",
       "        text-align: right;\n",
       "    }\n",
       "</style>\n",
       "<table border=\"1\" class=\"dataframe\">\n",
       "  <thead>\n",
       "    <tr style=\"text-align: right;\">\n",
       "      <th></th>\n",
       "      <th>Plaza ID</th>\n",
       "      <th>Date</th>\n",
       "      <th>Hour</th>\n",
       "      <th>Direction</th>\n",
       "      <th># Vehicles - E-ZPass</th>\n",
       "      <th># Vehicles - VToll</th>\n",
       "    </tr>\n",
       "  </thead>\n",
       "  <tbody>\n",
       "    <tr>\n",
       "      <th>0</th>\n",
       "      <td>21</td>\n",
       "      <td>2022-10-01</td>\n",
       "      <td>0</td>\n",
       "      <td>I</td>\n",
       "      <td>2515</td>\n",
       "      <td>530</td>\n",
       "    </tr>\n",
       "    <tr>\n",
       "      <th>1</th>\n",
       "      <td>21</td>\n",
       "      <td>2022-10-01</td>\n",
       "      <td>1</td>\n",
       "      <td>I</td>\n",
       "      <td>1534</td>\n",
       "      <td>346</td>\n",
       "    </tr>\n",
       "    <tr>\n",
       "      <th>2</th>\n",
       "      <td>21</td>\n",
       "      <td>2022-10-01</td>\n",
       "      <td>2</td>\n",
       "      <td>I</td>\n",
       "      <td>1161</td>\n",
       "      <td>261</td>\n",
       "    </tr>\n",
       "    <tr>\n",
       "      <th>3</th>\n",
       "      <td>21</td>\n",
       "      <td>2022-10-01</td>\n",
       "      <td>3</td>\n",
       "      <td>I</td>\n",
       "      <td>1125</td>\n",
       "      <td>291</td>\n",
       "    </tr>\n",
       "    <tr>\n",
       "      <th>4</th>\n",
       "      <td>21</td>\n",
       "      <td>2022-10-01</td>\n",
       "      <td>4</td>\n",
       "      <td>I</td>\n",
       "      <td>1274</td>\n",
       "      <td>282</td>\n",
       "    </tr>\n",
       "    <tr>\n",
       "      <th>...</th>\n",
       "      <td>...</td>\n",
       "      <td>...</td>\n",
       "      <td>...</td>\n",
       "      <td>...</td>\n",
       "      <td>...</td>\n",
       "      <td>...</td>\n",
       "    </tr>\n",
       "    <tr>\n",
       "      <th>1957007</th>\n",
       "      <td>11</td>\n",
       "      <td>2010-01-01</td>\n",
       "      <td>19</td>\n",
       "      <td>I</td>\n",
       "      <td>2675</td>\n",
       "      <td>1152</td>\n",
       "    </tr>\n",
       "    <tr>\n",
       "      <th>1957008</th>\n",
       "      <td>11</td>\n",
       "      <td>2010-01-01</td>\n",
       "      <td>20</td>\n",
       "      <td>I</td>\n",
       "      <td>2580</td>\n",
       "      <td>1086</td>\n",
       "    </tr>\n",
       "    <tr>\n",
       "      <th>1957009</th>\n",
       "      <td>11</td>\n",
       "      <td>2010-01-01</td>\n",
       "      <td>21</td>\n",
       "      <td>I</td>\n",
       "      <td>2302</td>\n",
       "      <td>987</td>\n",
       "    </tr>\n",
       "    <tr>\n",
       "      <th>1957010</th>\n",
       "      <td>11</td>\n",
       "      <td>2010-01-01</td>\n",
       "      <td>22</td>\n",
       "      <td>I</td>\n",
       "      <td>2170</td>\n",
       "      <td>910</td>\n",
       "    </tr>\n",
       "    <tr>\n",
       "      <th>1957011</th>\n",
       "      <td>11</td>\n",
       "      <td>2010-01-01</td>\n",
       "      <td>23</td>\n",
       "      <td>I</td>\n",
       "      <td>1837</td>\n",
       "      <td>706</td>\n",
       "    </tr>\n",
       "  </tbody>\n",
       "</table>\n",
       "<p>1957012 rows × 6 columns</p>\n",
       "</div>"
      ],
      "text/plain": [
       "         Plaza ID       Date  Hour Direction  # Vehicles - E-ZPass  \\\n",
       "0              21 2022-10-01     0         I                  2515   \n",
       "1              21 2022-10-01     1         I                  1534   \n",
       "2              21 2022-10-01     2         I                  1161   \n",
       "3              21 2022-10-01     3         I                  1125   \n",
       "4              21 2022-10-01     4         I                  1274   \n",
       "...           ...        ...   ...       ...                   ...   \n",
       "1957007        11 2010-01-01    19         I                  2675   \n",
       "1957008        11 2010-01-01    20         I                  2580   \n",
       "1957009        11 2010-01-01    21         I                  2302   \n",
       "1957010        11 2010-01-01    22         I                  2170   \n",
       "1957011        11 2010-01-01    23         I                  1837   \n",
       "\n",
       "         # Vehicles - VToll  \n",
       "0                       530  \n",
       "1                       346  \n",
       "2                       261  \n",
       "3                       291  \n",
       "4                       282  \n",
       "...                     ...  \n",
       "1957007                1152  \n",
       "1957008                1086  \n",
       "1957009                 987  \n",
       "1957010                 910  \n",
       "1957011                 706  \n",
       "\n",
       "[1957012 rows x 6 columns]"
      ]
     },
     "execution_count": 8,
     "metadata": {},
     "output_type": "execute_result"
    }
   ],
   "source": [
    "df"
   ]
  },
  {
   "cell_type": "code",
   "execution_count": 9,
   "id": "db93a0ca",
   "metadata": {},
   "outputs": [],
   "source": [
    "df1 = df[(df['Date'] > '2018-12-31')]"
   ]
  },
  {
   "cell_type": "code",
   "execution_count": 11,
   "id": "799cd9fd",
   "metadata": {},
   "outputs": [],
   "source": [
    "#data written to output directory\n",
    "df1.to_csv(\"../output/Traffic_Volume_2019_onwards.csv\",index=False)"
   ]
  },
  {
   "cell_type": "markdown",
   "id": "5e147b0b",
   "metadata": {},
   "source": [
    "# Analysis"
   ]
  },
  {
   "cell_type": "code",
   "execution_count": 2,
   "id": "9b2edae3",
   "metadata": {},
   "outputs": [],
   "source": [
    "df = pd.read_csv(\"../output/Traffic_Volume_2019_onwards.csv\")"
   ]
  },
  {
   "cell_type": "code",
   "execution_count": 101,
   "id": "c35faec3",
   "metadata": {},
   "outputs": [],
   "source": [
    "df['Date'] = pd.to_datetime(df['Date'])"
   ]
  },
  {
   "cell_type": "code",
   "execution_count": 102,
   "id": "6cefae09",
   "metadata": {},
   "outputs": [],
   "source": [
    "df[\"Volume\"] = df[\"# Vehicles - E-ZPass\"] + df[\"# Vehicles - VToll\"]"
   ]
  },
  {
   "cell_type": "markdown",
   "id": "55eb4486",
   "metadata": {},
   "source": [
    "## Aggregating vehicle count for New York City"
   ]
  },
  {
   "cell_type": "code",
   "execution_count": 104,
   "id": "474194ad",
   "metadata": {},
   "outputs": [],
   "source": [
    "df1 = df.drop(['# Vehicles - E-ZPass', '# Vehicles - VToll','Direction',\"Hour\",\"Plaza ID\"], axis=1)"
   ]
  },
  {
   "cell_type": "code",
   "execution_count": 105,
   "id": "0aadb77f",
   "metadata": {},
   "outputs": [],
   "source": [
    "df1 = df1.resample('M', on='Date').sum()"
   ]
  },
  {
   "cell_type": "code",
   "execution_count": 153,
   "id": "e4252f91",
   "metadata": {},
   "outputs": [
    {
     "data": {
      "image/png": "[encoded data removed]",
      "text/plain": [
       "<Figure size 640x480 with 1 Axes>"
      ]
     },
     "metadata": {},
     "output_type": "display_data"
    }
   ],
   "source": [
    "import matplotlib.pyplot as plt\n",
    "from matplotlib.pyplot import figure\n",
    "# Plot a simple line chart\n",
    "# plt.plot(df[\"severity_injuries\"], color='g', label='Line y')\n",
    "\n",
    "\n",
    "# Plot another line on the same chart/graph\n",
    "plt.plot(df1[\"Volume\"], color='dodgerblue', label='Vehicle Volume')\n",
    "plt.xticks(rotation = 90)\n",
    "\n",
    "\n",
    "plt.legend()\n",
    "plt.show()"
   ]
  },
  {
   "cell_type": "markdown",
   "id": "0b4d8074",
   "metadata": {},
   "source": [
    "## Aggregating vehicle count at Borough level"
   ]
  },
  {
   "cell_type": "code",
   "execution_count": 108,
   "id": "b23e98f8",
   "metadata": {},
   "outputs": [
    {
     "data": {
      "text/html": [
       "<div>\n",
       "<style scoped>\n",
       "    .dataframe tbody tr th:only-of-type {\n",
       "        vertical-align: middle;\n",
       "    }\n",
       "\n",
       "    .dataframe tbody tr th {\n",
       "        vertical-align: top;\n",
       "    }\n",
       "\n",
       "    .dataframe thead th {\n",
       "        text-align: right;\n",
       "    }\n",
       "</style>\n",
       "<table border=\"1\" class=\"dataframe\">\n",
       "  <thead>\n",
       "    <tr style=\"text-align: right;\">\n",
       "      <th></th>\n",
       "      <th>Plaza ID</th>\n",
       "      <th>Date</th>\n",
       "      <th>Hour</th>\n",
       "      <th>Direction</th>\n",
       "      <th># Vehicles - E-ZPass</th>\n",
       "      <th># Vehicles - VToll</th>\n",
       "      <th>Volume</th>\n",
       "    </tr>\n",
       "  </thead>\n",
       "  <tbody>\n",
       "    <tr>\n",
       "      <th>0</th>\n",
       "      <td>21</td>\n",
       "      <td>2022-10-01</td>\n",
       "      <td>0</td>\n",
       "      <td>I</td>\n",
       "      <td>2515</td>\n",
       "      <td>530</td>\n",
       "      <td>3045</td>\n",
       "    </tr>\n",
       "    <tr>\n",
       "      <th>1</th>\n",
       "      <td>21</td>\n",
       "      <td>2022-10-01</td>\n",
       "      <td>1</td>\n",
       "      <td>I</td>\n",
       "      <td>1534</td>\n",
       "      <td>346</td>\n",
       "      <td>1880</td>\n",
       "    </tr>\n",
       "    <tr>\n",
       "      <th>2</th>\n",
       "      <td>21</td>\n",
       "      <td>2022-10-01</td>\n",
       "      <td>2</td>\n",
       "      <td>I</td>\n",
       "      <td>1161</td>\n",
       "      <td>261</td>\n",
       "      <td>1422</td>\n",
       "    </tr>\n",
       "    <tr>\n",
       "      <th>3</th>\n",
       "      <td>21</td>\n",
       "      <td>2022-10-01</td>\n",
       "      <td>3</td>\n",
       "      <td>I</td>\n",
       "      <td>1125</td>\n",
       "      <td>291</td>\n",
       "      <td>1416</td>\n",
       "    </tr>\n",
       "    <tr>\n",
       "      <th>4</th>\n",
       "      <td>21</td>\n",
       "      <td>2022-10-01</td>\n",
       "      <td>4</td>\n",
       "      <td>I</td>\n",
       "      <td>1274</td>\n",
       "      <td>282</td>\n",
       "      <td>1556</td>\n",
       "    </tr>\n",
       "    <tr>\n",
       "      <th>...</th>\n",
       "      <td>...</td>\n",
       "      <td>...</td>\n",
       "      <td>...</td>\n",
       "      <td>...</td>\n",
       "      <td>...</td>\n",
       "      <td>...</td>\n",
       "      <td>...</td>\n",
       "    </tr>\n",
       "    <tr>\n",
       "      <th>564525</th>\n",
       "      <td>30</td>\n",
       "      <td>2019-01-01</td>\n",
       "      <td>19</td>\n",
       "      <td>O</td>\n",
       "      <td>4377</td>\n",
       "      <td>611</td>\n",
       "      <td>4988</td>\n",
       "    </tr>\n",
       "    <tr>\n",
       "      <th>564526</th>\n",
       "      <td>30</td>\n",
       "      <td>2019-01-01</td>\n",
       "      <td>20</td>\n",
       "      <td>O</td>\n",
       "      <td>3839</td>\n",
       "      <td>485</td>\n",
       "      <td>4324</td>\n",
       "    </tr>\n",
       "    <tr>\n",
       "      <th>564527</th>\n",
       "      <td>30</td>\n",
       "      <td>2019-01-01</td>\n",
       "      <td>21</td>\n",
       "      <td>O</td>\n",
       "      <td>3200</td>\n",
       "      <td>410</td>\n",
       "      <td>3610</td>\n",
       "    </tr>\n",
       "    <tr>\n",
       "      <th>564528</th>\n",
       "      <td>30</td>\n",
       "      <td>2019-01-01</td>\n",
       "      <td>22</td>\n",
       "      <td>O</td>\n",
       "      <td>2569</td>\n",
       "      <td>348</td>\n",
       "      <td>2917</td>\n",
       "    </tr>\n",
       "    <tr>\n",
       "      <th>564529</th>\n",
       "      <td>30</td>\n",
       "      <td>2019-01-01</td>\n",
       "      <td>23</td>\n",
       "      <td>O</td>\n",
       "      <td>2040</td>\n",
       "      <td>276</td>\n",
       "      <td>2316</td>\n",
       "    </tr>\n",
       "  </tbody>\n",
       "</table>\n",
       "<p>564530 rows × 7 columns</p>\n",
       "</div>"
      ],
      "text/plain": [
       "        Plaza ID       Date  Hour Direction  # Vehicles - E-ZPass  \\\n",
       "0             21 2022-10-01     0         I                  2515   \n",
       "1             21 2022-10-01     1         I                  1534   \n",
       "2             21 2022-10-01     2         I                  1161   \n",
       "3             21 2022-10-01     3         I                  1125   \n",
       "4             21 2022-10-01     4         I                  1274   \n",
       "...          ...        ...   ...       ...                   ...   \n",
       "564525        30 2019-01-01    19         O                  4377   \n",
       "564526        30 2019-01-01    20         O                  3839   \n",
       "564527        30 2019-01-01    21         O                  3200   \n",
       "564528        30 2019-01-01    22         O                  2569   \n",
       "564529        30 2019-01-01    23         O                  2040   \n",
       "\n",
       "        # Vehicles - VToll  Volume  \n",
       "0                      530    3045  \n",
       "1                      346    1880  \n",
       "2                      261    1422  \n",
       "3                      291    1416  \n",
       "4                      282    1556  \n",
       "...                    ...     ...  \n",
       "564525                 611    4988  \n",
       "564526                 485    4324  \n",
       "564527                 410    3610  \n",
       "564528                 348    2917  \n",
       "564529                 276    2316  \n",
       "\n",
       "[564530 rows x 7 columns]"
      ]
     },
     "execution_count": 108,
     "metadata": {},
     "output_type": "execute_result"
    }
   ],
   "source": [
    "df"
   ]
  },
  {
   "cell_type": "code",
   "execution_count": 117,
   "id": "61995015",
   "metadata": {},
   "outputs": [],
   "source": [
    "M1 = df[(df['Plaza ID'] == 21) & (df['Direction'] == \"I\")]"
   ]
  },
  {
   "cell_type": "code",
   "execution_count": 118,
   "id": "aacf348f",
   "metadata": {},
   "outputs": [],
   "source": [
    "Q1 = df[(df['Plaza ID'] == 21) & (df['Direction'] == \"I\")]"
   ]
  },
  {
   "cell_type": "code",
   "execution_count": 119,
   "id": "6cad4e76",
   "metadata": {},
   "outputs": [],
   "source": [
    "X1 = df[(df['Plaza ID'] == 21) & (df['Direction'] == \"I\")]"
   ]
  },
  {
   "cell_type": "code",
   "execution_count": 120,
   "id": "8ecec443",
   "metadata": {},
   "outputs": [],
   "source": [
    "Q2 = df[(df['Plaza ID'] == 22) & (df['Direction'] == \"O\")]"
   ]
  },
  {
   "cell_type": "code",
   "execution_count": 121,
   "id": "c392f9ac",
   "metadata": {},
   "outputs": [],
   "source": [
    "X2 = df[(df['Plaza ID'] == 22) & (df['Direction'] == \"O\")]"
   ]
  },
  {
   "cell_type": "code",
   "execution_count": 122,
   "id": "1587a0b2",
   "metadata": {},
   "outputs": [],
   "source": [
    "X3 = df[(df['Plaza ID'] == 23) & (df['Direction'] == \"I\")]"
   ]
  },
  {
   "cell_type": "code",
   "execution_count": 123,
   "id": "ee360973",
   "metadata": {},
   "outputs": [],
   "source": [
    "Q3 = df[(df['Plaza ID'] == 23) & (df['Direction'] == \"O\")]"
   ]
  },
  {
   "cell_type": "code",
   "execution_count": 124,
   "id": "d542ab8b",
   "metadata": {},
   "outputs": [],
   "source": [
    "M2 = df[(df['Plaza ID'] == 24) & (df['Direction'] == \"I\")]"
   ]
  },
  {
   "cell_type": "code",
   "execution_count": 125,
   "id": "8f1c0db7",
   "metadata": {},
   "outputs": [],
   "source": [
    "X4 = df[(df['Plaza ID'] == 24) & (df['Direction'] == \"O\")]"
   ]
  },
  {
   "cell_type": "code",
   "execution_count": 126,
   "id": "edf40bc2",
   "metadata": {},
   "outputs": [],
   "source": [
    "K1 = df[(df['Plaza ID'] == 25) & (df['Direction'] == \"O\")]"
   ]
  },
  {
   "cell_type": "code",
   "execution_count": 127,
   "id": "1bbde7ba",
   "metadata": {},
   "outputs": [],
   "source": [
    "Q4 = df[(df['Plaza ID'] == 26) & (df['Direction'] == \"O\")]"
   ]
  },
  {
   "cell_type": "code",
   "execution_count": 128,
   "id": "7b956714",
   "metadata": {},
   "outputs": [],
   "source": [
    "M3 = df[(df['Plaza ID'] == 27) & (df['Direction'] == \"I\")]"
   ]
  },
  {
   "cell_type": "code",
   "execution_count": 130,
   "id": "16ecb259",
   "metadata": {},
   "outputs": [],
   "source": [
    "Q5 = df[(df['Plaza ID'] == 27) & (df['Direction'] == \"O\")]"
   ]
  },
  {
   "cell_type": "code",
   "execution_count": 129,
   "id": "e8237fc1",
   "metadata": {},
   "outputs": [],
   "source": [
    "M4 = df[(df['Plaza ID'] == 28) & (df['Direction'] == \"I\")]"
   ]
  },
  {
   "cell_type": "code",
   "execution_count": 131,
   "id": "b9970625",
   "metadata": {},
   "outputs": [],
   "source": [
    "K2 = df[(df['Plaza ID'] == 28) & (df['Direction'] == \"O\")]"
   ]
  },
  {
   "cell_type": "code",
   "execution_count": 132,
   "id": "630d66f6",
   "metadata": {},
   "outputs": [],
   "source": [
    "X5 = df[(df['Plaza ID'] == 29) & (df['Direction'] == \"I\")]"
   ]
  },
  {
   "cell_type": "code",
   "execution_count": 133,
   "id": "fa59f06c",
   "metadata": {},
   "outputs": [],
   "source": [
    "Q6 = df[(df['Plaza ID'] == 29) & (df['Direction'] == \"O\")]"
   ]
  },
  {
   "cell_type": "code",
   "execution_count": 134,
   "id": "3feee93e",
   "metadata": {},
   "outputs": [],
   "source": [
    "S1 = df[(df['Plaza ID'] == 30) & (df['Direction'] == \"I\")]"
   ]
  },
  {
   "cell_type": "code",
   "execution_count": 135,
   "id": "7981125c",
   "metadata": {},
   "outputs": [],
   "source": [
    "K3 = df[(df['Plaza ID'] == 30) & (df['Direction'] == \"O\")]"
   ]
  },
  {
   "cell_type": "code",
   "execution_count": 140,
   "id": "48656342",
   "metadata": {},
   "outputs": [],
   "source": [
    "# Merging datasets:\n",
    "\n",
    "# Manhattan:\n",
    "Mdf = pd.concat([M1, M2, M3, M4])\n",
    "\n",
    "# Queens:\n",
    "Qdf = pd.concat([Q1, Q2, Q3, Q4, Q5, Q6])\n",
    "\n",
    "# Brooklyn:\n",
    "Kdf = pd.concat([K1, K2, K3])\n",
    "\n",
    "# Bronx\n",
    "Xdf = pd.concat([X1, X2, X3, X4, X5])\n",
    "\n",
    "# Staten Island\n",
    "Sdf = S1"
   ]
  },
  {
   "cell_type": "code",
   "execution_count": 142,
   "id": "6f13f071",
   "metadata": {},
   "outputs": [
    {
     "name": "stderr",
     "output_type": "stream",
     "text": [
      "C:\\Users\\Kartik Kotian\\AppData\\Local\\Temp\\ipykernel_17920\\2683924965.py:3: FutureWarning: The default value of numeric_only in DataFrameGroupBy.sum is deprecated. In a future version, numeric_only will default to False. Either specify numeric_only or select only columns which should be valid for the function.\n",
      "  Mdf = Mdf.resample('M', on='Date').sum()\n",
      "C:\\Users\\Kartik Kotian\\AppData\\Local\\Temp\\ipykernel_17920\\2683924965.py:4: FutureWarning: The default value of numeric_only in DataFrameGroupBy.sum is deprecated. In a future version, numeric_only will default to False. Either specify numeric_only or select only columns which should be valid for the function.\n",
      "  Qdf = Qdf.resample('M', on='Date').sum()\n",
      "C:\\Users\\Kartik Kotian\\AppData\\Local\\Temp\\ipykernel_17920\\2683924965.py:5: FutureWarning: The default value of numeric_only in DataFrameGroupBy.sum is deprecated. In a future version, numeric_only will default to False. Either specify numeric_only or select only columns which should be valid for the function.\n",
      "  Kdf = Kdf.resample('M', on='Date').sum()\n",
      "C:\\Users\\Kartik Kotian\\AppData\\Local\\Temp\\ipykernel_17920\\2683924965.py:6: FutureWarning: The default value of numeric_only in DataFrameGroupBy.sum is deprecated. In a future version, numeric_only will default to False. Either specify numeric_only or select only columns which should be valid for the function.\n",
      "  Xdf = Xdf.resample('M', on='Date').sum()\n",
      "C:\\Users\\Kartik Kotian\\AppData\\Local\\Temp\\ipykernel_17920\\2683924965.py:7: FutureWarning: The default value of numeric_only in DataFrameGroupBy.sum is deprecated. In a future version, numeric_only will default to False. Either specify numeric_only or select only columns which should be valid for the function.\n",
      "  Sdf = Sdf.resample('M', on='Date').sum()\n"
     ]
    }
   ],
   "source": [
    "# Merging data monthwise\n",
    "\n",
    "Mdf = Mdf.resample('M', on='Date').sum()\n",
    "Qdf = Qdf.resample('M', on='Date').sum()\n",
    "Kdf = Kdf.resample('M', on='Date').sum()\n",
    "Xdf = Xdf.resample('M', on='Date').sum()\n",
    "Sdf = Sdf.resample('M', on='Date').sum()"
   ]
  },
  {
   "cell_type": "code",
   "execution_count": 148,
   "id": "f87425fa",
   "metadata": {},
   "outputs": [
    {
     "data": {
      "image/png": "[encoded data removed]",
      "text/plain": [
       "<Figure size 640x480 with 1 Axes>"
      ]
     },
     "metadata": {},
     "output_type": "display_data"
    }
   ],
   "source": [
    "import matplotlib.pyplot as plt\n",
    "from matplotlib.pyplot import figure\n",
    "# Plot a simple line chart\n",
    "# plt.plot(df[\"severity_injuries\"], color='g', label='Line y')\n",
    "\n",
    "\n",
    "plt.title(\"Approximate Vehicle Volume\")\n",
    "\n",
    "plt.plot(Mdf[\"Volume\"], color='dodgerblue', label='Manhattan')\n",
    "plt.plot(Qdf[\"Volume\"], color='magenta', label='Queens')\n",
    "plt.plot(Kdf[\"Volume\"], color='forestgreen', label='Brooklyn')\n",
    "plt.plot(Sdf[\"Volume\"], color='firebrick', label='Staten Island')\n",
    "plt.plot(Xdf[\"Volume\"], color='chocolate', label='Bronx')\n",
    "plt.xticks(rotation = 90)\n",
    "\n",
    "plt.legend(loc='lower left')\n",
    "plt.show()"
   ]
  },
  {
   "cell_type": "code",
   "execution_count": null,
   "id": "1d732b76",
   "metadata": {},
   "outputs": [],
   "source": []
  }
 ],
 "metadata": {
  "hide_input": false,
  "kernelspec": {
   "display_name": "Python 3 (ipykernel)",
   "language": "python",
   "name": "python3"
  },
  "language_info": {
   "codemirror_mode": {
    "name": "ipython",
    "version": 3
   },
   "file_extension": ".py",
   "mimetype": "text/x-python",
   "name": "python",
   "nbconvert_exporter": "python",
   "pygments_lexer": "ipython3",
   "version": "3.9.7"
  },
  "varInspector": {
   "cols": {
    "lenName": 16,
    "lenType": 16,
    "lenVar": 40
   },
   "kernels_config": {
    "python": {
     "delete_cmd_postfix": "",
     "delete_cmd_prefix": "del ",
     "library": "var_list.py",
     "varRefreshCmd": "print(var_dic_list())"
    },
    "r": {
     "delete_cmd_postfix": ") ",
     "delete_cmd_prefix": "rm(",
     "library": "var_list.r",
     "varRefreshCmd": "cat(var_dic_list()) "
    }
   },
   "types_to_exclude": [
    "module",
    "function",
    "builtin_function_or_method",
    "instance",
    "_Feature"
   ],
   "window_display": false
  }
 },
 "nbformat": 4,
 "nbformat_minor": 5
}
